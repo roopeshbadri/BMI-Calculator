{
 "cells": [
  {
   "cell_type": "markdown",
   "id": "b2ba9086-8847-4e1a-bada-a6a878a99df4",
   "metadata": {},
   "source": [
    "# BMI Calculator"
   ]
  },
  {
   "cell_type": "code",
   "execution_count": 48,
   "id": "1ea67e86-d7d3-4fe6-823a-4c370f2e854e",
   "metadata": {},
   "outputs": [
    {
     "name": "stdin",
     "output_type": "stream",
     "text": [
      "Enter your weight in kg:  80\n",
      "Enter your height in metres:  1.76\n"
     ]
    },
    {
     "name": "stdout",
     "output_type": "stream",
     "text": [
      "25.826446280991735\n"
     ]
    }
   ],
   "source": [
    "weight=int(input(\"Enter your weight in kg: \"))\n",
    "height=float(input(\"Enter your height in metres: \"))\n",
    "BMI=weight/(height*height)\n",
    "print(BMI)"
   ]
  },
  {
   "cell_type": "code",
   "execution_count": 62,
   "id": "ae7da4b6-4e46-4183-bfb5-f3037f68b189",
   "metadata": {},
   "outputs": [
    {
     "name": "stdout",
     "output_type": "stream",
     "text": [
      "Condition    Risk\n",
      "Overweight-Increased\n"
     ]
    }
   ],
   "source": [
    "print(\"Condition    Risk\")\n",
    "if BMI > 0:\n",
    "    if BMI <18.5:\n",
    "        print(\"Underweight-Minimal\")\n",
    "    elif BMI <24.9:\n",
    "        print(\"Normal weight-Minimal\")\n",
    "    elif BMI < 29.9:\n",
    "        print(\"Overweight-Increased\")\n",
    "    elif BMI< 34.9:\n",
    "        print(\"Obese-High\")\n",
    "    elif BMI<39.9:\n",
    "        print(\"Severely Obese-Very High\")\n",
    "    else:\n",
    "        print(\"Morbidly Obese-Extremely High\")\n",
    "else:\n",
    "    print(\"Enter Valid Inputs\")\n"
   ]
  },
  {
   "cell_type": "code",
   "execution_count": null,
   "id": "9658fba6-7956-4e86-8b5f-b7dd69337dd4",
   "metadata": {},
   "outputs": [],
   "source": []
  },
  {
   "cell_type": "code",
   "execution_count": null,
   "id": "e7ec4bd3-bb5a-4ce8-9911-ba7dea9f2eb3",
   "metadata": {},
   "outputs": [],
   "source": []
  },
  {
   "cell_type": "code",
   "execution_count": null,
   "id": "4f7cac69-24b3-42b2-a053-cc279bcda574",
   "metadata": {},
   "outputs": [],
   "source": []
  },
  {
   "cell_type": "code",
   "execution_count": null,
   "id": "4d8745fb-d739-44a6-a470-9349ae8346aa",
   "metadata": {},
   "outputs": [],
   "source": []
  },
  {
   "cell_type": "code",
   "execution_count": null,
   "id": "a5cec35c-6d5c-4d4e-afe2-74a508dd5f1e",
   "metadata": {},
   "outputs": [],
   "source": []
  }
 ],
 "metadata": {
  "kernelspec": {
   "display_name": "Python 3 (ipykernel)",
   "language": "python",
   "name": "python3"
  },
  "language_info": {
   "codemirror_mode": {
    "name": "ipython",
    "version": 3
   },
   "file_extension": ".py",
   "mimetype": "text/x-python",
   "name": "python",
   "nbconvert_exporter": "python",
   "pygments_lexer": "ipython3",
   "version": "3.12.4"
  }
 },
 "nbformat": 4,
 "nbformat_minor": 5
}
